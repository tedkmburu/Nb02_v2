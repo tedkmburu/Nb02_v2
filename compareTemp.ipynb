{
 "cells": [
  {
   "cell_type": "code",
   "execution_count": 80,
   "metadata": {},
   "outputs": [],
   "source": [
    "# prepares the notebook for \"inline\" graphing, and imports matplotlib library\n",
    "%matplotlib inline\n",
    "%config InlineBackend.figure_format='svg'\n",
    "import matplotlib\n",
    "import numpy as np\n",
    "import matplotlib.pyplot as plt\n",
    "import pandas as pd\n",
    "import os\n",
    "\n",
    "from operator import attrgetter\n",
    "from matplotlib.colors import LinearSegmentedColormap\n",
    "from mpl_toolkits.axes_grid1.inset_locator import inset_axes\n",
    "\n",
    "from os.path import isfile, join"
   ]
  },
  {
   "cell_type": "code",
   "execution_count": 81,
   "metadata": {},
   "outputs": [],
   "source": [
    "# These functions are used for data analysis.\n",
    "\n",
    "# these functions are used in determining the type\n",
    "# of data we are looking at (posthesh, neghold etc)\n",
    "def isIncreasing(L):\n",
    "    return L[0] < L[len(L) - 1]\n",
    "def isDecreasing(L):\n",
    "    return L[0] > L[len(L) - 1]\n",
    "def non_increasing(L):\n",
    "    return all(x>=y for x, y in zip(L, L[1:]))\n",
    "def non_decreasing(L):\n",
    "    return all(x<=y for x, y in zip(L, L[1:]))\n",
    "def monotonic(L):\n",
    "    return non_increasing(L) or non_decreasing(L)\n",
    "def average(array):\n",
    "    return sum(array) / len(array)\n",
    "\n",
    "# this will return the type of data you give it\n",
    "# it takes an array of voltages and currents as arguments\n",
    "def sortIntoSide(voltage, current):\n",
    "    if isIncreasing(voltage) and isIncreasing(current):\n",
    "        return \"posThresh\"\n",
    "    elif isDecreasing(voltage) and isDecreasing(current):\n",
    "        return \"posHold\"\n",
    "    elif isDecreasing(voltage) and isIncreasing(current):\n",
    "        return \"negThresh\"\n",
    "    elif isIncreasing(voltage) and isDecreasing(current):\n",
    "        return \"negHold\"\n",
    "    else: \n",
    "        print(\"???\")"
   ]
  },
  {
   "cell_type": "code",
   "execution_count": 82,
   "metadata": {},
   "outputs": [],
   "source": [
    "# this will take a file name and device size and\n",
    "# get all of the meaningful stuff out of it\n",
    "class DataFile:\n",
    "    def __init__(self, filePath):\n",
    "        self.filePath = filePath\n",
    "        self.getFileNameFromPath()\n",
    "        self.getDeviceTempFromName()\n",
    "        self.getDeviceNumberFromName()\n",
    "        self.getSampleNumberFromName()\n",
    "        self.readAllData()\n",
    "\n",
    "        # print(self.deviceTemp, self.deviceNumber, self.fileName)\n",
    "        # self.graphAllData()\n",
    "\n",
    "    def getFileNameFromPath(self):\n",
    "        self.fileName = self.filePath.split(\"/data/\")[1]\n",
    "\n",
    "    def getDeviceTempFromName(self):\n",
    "        self.deviceTemp = self.fileName.split(\"_\")[5][:-1]\n",
    "\n",
    "    def getDeviceNumberFromName(self):\n",
    "        self.deviceNumber = self.fileName.split(\"_\")[4]\n",
    "\n",
    "    def getSampleNumberFromName(self):\n",
    "        self.sampleNumber = self.fileName.split(\"_\")[3]\n",
    "\n",
    "    def readAllData(self):\n",
    "        df5 = pd.read_csv(self.filePath, names=['Time (s)','Current (A)','Voltage (V)'],sep='\\t',skiprows=1)\n",
    "        data = df5.values\n",
    "        df5.head()\n",
    "        self.t = data[:,0]\n",
    "        self.I = data[:,1]\n",
    "        self.V = data[:,2]\n",
    "\n",
    "    def graphAllData(self):\n",
    "        plt.rcParams['figure.figsize'] = (5,3)\n",
    "        plt.grid()\n",
    "        plt.semilogy(self.V, self.I)\n",
    "        plt.xlabel('Voltage (V)')\n",
    "        plt.ylabel('Current (A)')\n",
    "        plt.text(-1, 0.01, \"Temp: \" + self.deviceTemp + \" K\", fontsize=12)\n",
    "        plt.text(-2, 0.01, \"Device: \" + self.deviceNumber, fontsize=12)\n",
    "        plt.text(-3, 0.01, \"Sample: \" + self.sampleNumber, fontsize=12)\n",
    "        plt.figure()\n",
    "        "
   ]
  },
  {
   "cell_type": "code",
   "execution_count": 83,
   "metadata": {},
   "outputs": [
    {
     "name": "stdout",
     "output_type": "stream",
     "text": [
      "total files:  34\n"
     ]
    }
   ],
   "source": [
    "pathToData = os.getcwd() + \"/data/\" # the folder where all the data is stored\n",
    "files = [] # stores all the files data as DataFile objects\n",
    "\n",
    "# go into the data folder and extract all file names\n",
    "for path in os.listdir(pathToData):\n",
    "    if os.path.isfile(os.path.join(pathToData, path)):\n",
    "        files.append(DataFile(pathToData + path))\n",
    "\n",
    "print(\"total files: \", len(files))\n",
    "\n",
    "filesToGraph = []\n",
    "\n",
    "for file in files:\n",
    "  if(len(file.deviceTemp) == 3):\n",
    "    if(file.deviceNumber == \"D18\"):\n",
    "      filesToGraph.append(file)\n",
    "\n",
    "filesToGraph.sort(key=lambda x: x.deviceTemp)\n",
    "\n",
    "for file in filesToGraph:\n",
    "  file.graphAllData()\n"
   ]
  }
 ],
 "metadata": {
  "kernelspec": {
   "display_name": "Python 3.9.12 ('base')",
   "language": "python",
   "name": "python3"
  },
  "language_info": {
   "codemirror_mode": {
    "name": "ipython",
    "version": 3
   },
   "file_extension": ".py",
   "mimetype": "text/x-python",
   "name": "python",
   "nbconvert_exporter": "python",
   "pygments_lexer": "ipython3",
   "version": "3.9.12"
  },
  "orig_nbformat": 4,
  "vscode": {
   "interpreter": {
    "hash": "a1e7b662138d5dd7fab18245d709f3bf1bb498c93188e562e5d27bdab9efe25f"
   }
  }
 },
 "nbformat": 4,
 "nbformat_minor": 2
}
